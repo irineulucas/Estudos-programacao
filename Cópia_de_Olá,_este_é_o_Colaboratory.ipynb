{
  "cells": [
    {
      "cell_type": "markdown",
      "metadata": {
        "id": "view-in-github",
        "colab_type": "text"
      },
      "source": [
        "<a href=\"https://colab.research.google.com/github/irineulucas/Estudos-programacao/blob/main/C%C3%B3pia_de_Ol%C3%A1%2C_este_%C3%A9_o_Colaboratory.ipynb\" target=\"_parent\"><img src=\"https://colab.research.google.com/assets/colab-badge.svg\" alt=\"Open In Colab\"/></a>"
      ]
    },
    {
      "cell_type": "code",
      "source": [
        "numeros = [1, 3, 5, 7, 9]\n",
        "numeros\n"
      ],
      "metadata": {
        "id": "RG1cSYRM_3zr",
        "outputId": "3b874673-8ef8-4d83-a2ac-c35ea717e8f3",
        "colab": {
          "base_uri": "https://localhost:8080/"
        }
      },
      "execution_count": null,
      "outputs": [
        {
          "output_type": "execute_result",
          "data": {
            "text/plain": [
              "[1, 3, 5, 7, 9]"
            ]
          },
          "metadata": {},
          "execution_count": 8
        }
      ]
    },
    {
      "cell_type": "code",
      "source": [
        "frutas = ['morango', 'abacaxi', 'maracujá', 'kiwi', 'goiaba']\n"
      ],
      "metadata": {
        "id": "_DMJUhkmApkD"
      },
      "execution_count": null,
      "outputs": []
    },
    {
      "cell_type": "code",
      "source": [
        "#tamanho da lista\n",
        "len(numeros)\n"
      ],
      "metadata": {
        "id": "-pGfGGKoBl3f",
        "outputId": "b0a3fa01-62a8-435a-d19a-21c6d65aa8b6",
        "colab": {
          "base_uri": "https://localhost:8080/"
        }
      },
      "execution_count": null,
      "outputs": [
        {
          "output_type": "execute_result",
          "data": {
            "text/plain": [
              "5"
            ]
          },
          "metadata": {},
          "execution_count": 17
        }
      ]
    },
    {
      "cell_type": "code",
      "source": [
        "alunos = ['Helena', 'Matheus', 'Augusto', 'Pedro', 'Livia', 'Maria']\n",
        "len(alunos)\n",
        "alunos[2]\n",
        "alunos[2] = 'Wanessa'\n",
        "alunos.append('Elizabeth')\n",
        "alunos.append(input('digite um nome! '))\n",
        "alunos\n"
      ],
      "metadata": {
        "id": "8zerpSE7CGpU",
        "outputId": "55b95325-aeef-44cc-b202-64db74ab5262",
        "colab": {
          "base_uri": "https://localhost:8080/"
        }
      },
      "execution_count": null,
      "outputs": [
        {
          "name": "stdout",
          "output_type": "stream",
          "text": [
            "digite um nome! Pablo\n"
          ]
        },
        {
          "output_type": "execute_result",
          "data": {
            "text/plain": [
              "['Helena',\n",
              " 'Matheus',\n",
              " 'Wanessa',\n",
              " 'Pedro',\n",
              " 'Livia',\n",
              " 'Maria',\n",
              " 'Elizabeth',\n",
              " 'Pablo']"
            ]
          },
          "metadata": {},
          "execution_count": 45
        }
      ]
    },
    {
      "cell_type": "code",
      "source": [
        "if 'Matheus' in alunos:\n",
        "  print('Tem Matheus SIIIIIM')\n",
        "else:\n",
        "  print('Tem Matheus NAAAO')\n"
      ],
      "metadata": {
        "id": "4m_CVAfGM6n4",
        "outputId": "68a76b23-8203-4380-f851-4132e9e53402",
        "colab": {
          "base_uri": "https://localhost:8080/"
        }
      },
      "execution_count": null,
      "outputs": [
        {
          "output_type": "stream",
          "name": "stdout",
          "text": [
            "Tem Matheus SIIIIIM\n"
          ]
        }
      ]
    },
    {
      "cell_type": "code",
      "source": [
        "nome = input('digite o nome: ')\n",
        "if nome in alunos:\n",
        "  print('Tem', nome)\n",
        "else:\n",
        "  print('não tem', nome)"
      ],
      "metadata": {
        "id": "MU-p5hVtPx5v",
        "outputId": "2999d25f-634d-4dbb-ca8e-3bccae8dafd3",
        "colab": {
          "base_uri": "https://localhost:8080/"
        }
      },
      "execution_count": null,
      "outputs": [
        {
          "output_type": "stream",
          "name": "stdout",
          "text": [
            "digite o nome: Maria\n",
            "Tem Maria\n"
          ]
        }
      ]
    },
    {
      "cell_type": "code",
      "source": [
        "numeros = []\n",
        "for num in range(15):\n",
        "  numeros.append(num)"
      ],
      "metadata": {
        "id": "HMKeuTIiSZS8"
      },
      "execution_count": null,
      "outputs": []
    },
    {
      "cell_type": "code",
      "source": [
        "dobro = []\n",
        "for num in numeros:\n",
        "   dobro.append(numeros[num]*2)\n",
        "dobro   \n"
      ],
      "metadata": {
        "id": "6bx4vEpJU6wb",
        "outputId": "7d5b6e01-81bb-45ba-f56d-8b4e43c58508",
        "colab": {
          "base_uri": "https://localhost:8080/"
        }
      },
      "execution_count": null,
      "outputs": [
        {
          "output_type": "execute_result",
          "data": {
            "text/plain": [
              "[0, 2, 4, 6, 8, 10, 12, 14, 16, 18, 20, 22, 24, 26, 28]"
            ]
          },
          "metadata": {},
          "execution_count": 54
        }
      ]
    },
    {
      "cell_type": "code",
      "source": [
        " for num in numeros:\n",
        "   if numeros[num]%2 == 0:\n",
        "     print(numeros[num])"
      ],
      "metadata": {
        "id": "iGJWyfVjXFPU",
        "outputId": "b7efb415-9b6c-431d-8441-92d403a1b579",
        "colab": {
          "base_uri": "https://localhost:8080/"
        }
      },
      "execution_count": null,
      "outputs": [
        {
          "output_type": "stream",
          "name": "stdout",
          "text": [
            "0\n",
            "2\n",
            "4\n",
            "6\n",
            "8\n",
            "10\n",
            "12\n",
            "14\n"
          ]
        }
      ]
    },
    {
      "cell_type": "code",
      "source": [],
      "metadata": {
        "id": "YB31e2Y7M28R"
      },
      "execution_count": null,
      "outputs": []
    }
  ],
  "metadata": {
    "colab": {
      "toc_visible": true,
      "provenance": [],
      "include_colab_link": true
    },
    "kernelspec": {
      "display_name": "Python 3",
      "name": "python3"
    }
  },
  "nbformat": 4,
  "nbformat_minor": 0
}