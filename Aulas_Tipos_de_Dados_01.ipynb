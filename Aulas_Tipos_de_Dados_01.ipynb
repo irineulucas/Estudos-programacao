{
  "nbformat": 4,
  "nbformat_minor": 0,
  "metadata": {
    "colab": {
      "provenance": [],
      "authorship_tag": "ABX9TyNrCB8FqS2wfPcsx6Rh9u7B",
      "include_colab_link": true
    },
    "kernelspec": {
      "name": "python3",
      "display_name": "Python 3"
    },
    "language_info": {
      "name": "python"
    }
  },
  "cells": [
    {
      "cell_type": "markdown",
      "metadata": {
        "id": "view-in-github",
        "colab_type": "text"
      },
      "source": [
        "<a href=\"https://colab.research.google.com/github/irineulucas/Estudos-programacao/blob/main/Aulas_Tipos_de_Dados_01.ipynb\" target=\"_parent\"><img src=\"https://colab.research.google.com/assets/colab-badge.svg\" alt=\"Open In Colab\"/></a>"
      ]
    },
    {
      "cell_type": "code",
      "execution_count": 5,
      "metadata": {
        "colab": {
          "base_uri": "https://localhost:8080/"
        },
        "id": "CtasZrlfB6b8",
        "outputId": "974c9f8a-205d-405f-b2d8-292e97c2f0b9"
      },
      "outputs": [
        {
          "output_type": "stream",
          "name": "stdout",
          "text": [
            "meu primeiro notebook\n",
            "Matheus Lucas\n"
          ]
        }
      ],
      "source": [
        " print (\"meu primeiro notebook\")\n",
        " nome = 'Matheus Lucas'\n",
        " print (nome)"
      ]
    },
    {
      "cell_type": "code",
      "source": [
        "#descobrir tipo de variavel\n",
        "type (nome)"
      ],
      "metadata": {
        "colab": {
          "base_uri": "https://localhost:8080/"
        },
        "id": "LLHEu-5ECn7k",
        "outputId": "7cc2f0cd-c10c-48d6-df01-3f22ff785912"
      },
      "execution_count": 8,
      "outputs": [
        {
          "output_type": "execute_result",
          "data": {
            "text/plain": [
              "str"
            ]
          },
          "metadata": {},
          "execution_count": 8
        }
      ]
    },
    {
      "cell_type": "code",
      "source": [
        "idade = '16'\n",
        "print (idade)"
      ],
      "metadata": {
        "colab": {
          "base_uri": "https://localhost:8080/"
        },
        "id": "9BT2xL1XDTSs",
        "outputId": "196427de-dc2a-4f2a-cbd2-c09d44afdfe9"
      },
      "execution_count": 9,
      "outputs": [
        {
          "output_type": "stream",
          "name": "stdout",
          "text": [
            "16\n"
          ]
        }
      ]
    },
    {
      "cell_type": "code",
      "source": [
        "expressao_matematica = input('digite uma expressao matematica: ')\n",
        "resultado = eval(expressao_matematica)\n",
        "print('o resultado é', resultado)"
      ],
      "metadata": {
        "colab": {
          "base_uri": "https://localhost:8080/"
        },
        "id": "BMqCGmsvD3Z8",
        "outputId": "b9cb5fbc-331a-494e-8d83-080790ce5d09"
      },
      "execution_count": 17,
      "outputs": [
        {
          "output_type": "stream",
          "name": "stdout",
          "text": [
            "digite uma expressao matematica: 2/6\n",
            "o resultado é 0.3333333333333333\n"
          ]
        }
      ]
    },
    {
      "cell_type": "code",
      "source": [
        "numero1 = input('digite o primeiro numero: ')\n",
        "numero2 = input('digite o segundo numero: ')\n",
        "resultado = int(numero1) + int(numero2)\n",
        "print(\" o resultado da operação é: \" + str(resultado))"
      ],
      "metadata": {
        "colab": {
          "base_uri": "https://localhost:8080/"
        },
        "id": "kCVs0q-aH6t1",
        "outputId": "a65a9429-dc9e-4f86-859a-3b0f3e4529f8"
      },
      "execution_count": 19,
      "outputs": [
        {
          "output_type": "stream",
          "name": "stdout",
          "text": [
            "digite o primeiro numero: 7\n",
            "digite o segundo numero: 9\n",
            " o resultado da operação é: 16\n"
          ]
        }
      ]
    },
    {
      "cell_type": "code",
      "source": [],
      "metadata": {
        "id": "LAOkPIX-JeFJ"
      },
      "execution_count": null,
      "outputs": []
    },
    {
      "cell_type": "markdown",
      "source": [
        "Tipos de dados booleanos\n"
      ],
      "metadata": {
        "id": "tlFJL4ohKxxx"
      }
    },
    {
      "cell_type": "code",
      "source": [
        "a = 100 < 200\n",
        "b = 85 == 6\n",
        "c = 'pablo' == 'Ramon'\n",
        "d = 25 == '25'\n",
        "e = 30 == (6*5)\n",
        "f = 'Flamengo' != 'Vasco'"
      ],
      "metadata": {
        "id": "RxTuv-oUK3JB"
      },
      "execution_count": 31,
      "outputs": []
    },
    {
      "cell_type": "code",
      "source": [
        "print(a)\n",
        "print(b)\n",
        "print(c)\n",
        "print(d)\n",
        "print(e) \n",
        "print(f)"
      ],
      "metadata": {
        "colab": {
          "base_uri": "https://localhost:8080/"
        },
        "id": "uZZ0tzhULGh4",
        "outputId": "a75ea583-8e8a-4ddd-de96-403c338bfe22"
      },
      "execution_count": 32,
      "outputs": [
        {
          "output_type": "stream",
          "name": "stdout",
          "text": [
            "True\n",
            "False\n",
            "False\n",
            "False\n",
            "True\n",
            "True\n"
          ]
        }
      ]
    },
    {
      "cell_type": "code",
      "source": [
        "notaAprovação = 7.0\n",
        "notaWalison = 3.8\n",
        "print(notaAprovação < notaWalison)\n"
      ],
      "metadata": {
        "colab": {
          "base_uri": "https://localhost:8080/"
        },
        "id": "Chd-ScPmMtZR",
        "outputId": "7a9031ca-93ec-46f5-b287-8d5ecd4fda55"
      },
      "execution_count": 61,
      "outputs": [
        {
          "output_type": "stream",
          "name": "stdout",
          "text": [
            "False\n"
          ]
        }
      ]
    },
    {
      "cell_type": "code",
      "source": [
        "if (notaWalison >= notaAprovação):\n",
        "  print('aprovado')"
      ],
      "metadata": {
        "colab": {
          "base_uri": "https://localhost:8080/"
        },
        "id": "D5lMyvlrNHPO",
        "outputId": "68bec55d-be32-47dd-877b-218e059e53df"
      },
      "execution_count": 34,
      "outputs": [
        {
          "output_type": "stream",
          "name": "stdout",
          "text": [
            "aprovado\n"
          ]
        }
      ]
    },
    {
      "cell_type": "code",
      "source": [
        "if (notaWalison >= notaAprovação):\n",
        "  print('aprovado')\n",
        "else:\n",
        "  print('reprovado')  "
      ],
      "metadata": {
        "colab": {
          "base_uri": "https://localhost:8080/"
        },
        "id": "T-s_VzvON0pu",
        "outputId": "044da366-a096-4f24-d866-409b4a8f5a95"
      },
      "execution_count": 38,
      "outputs": [
        {
          "output_type": "stream",
          "name": "stdout",
          "text": [
            "reprovado\n"
          ]
        }
      ]
    },
    {
      "cell_type": "code",
      "source": [
        "if(notaWalison >= 7.0):\n",
        "  print('aprovado')\n",
        "elif(notaWalison >= 4 and notaWalison <7):\n",
        "  print('recuperação') \n",
        "else:\n",
        "  print('reprovado')  "
      ],
      "metadata": {
        "colab": {
          "base_uri": "https://localhost:8080/"
        },
        "id": "LUB4RRQNRJhG",
        "outputId": "49be0a31-b76f-4c9e-f792-aeeb6d8be245"
      },
      "execution_count": 52,
      "outputs": [
        {
          "output_type": "stream",
          "name": "stdout",
          "text": [
            "recuperação\n"
          ]
        }
      ]
    },
    {
      "cell_type": "code",
      "source": [
        "if(notaWalison < 4):\n",
        "  print('reprovado')\n",
        "elif(notaWalison < 7):\n",
        "  print('recuperação')\n",
        "else:\n",
        "  print('aprovado')    "
      ],
      "metadata": {
        "colab": {
          "base_uri": "https://localhost:8080/"
        },
        "id": "Fir-DxexS7j5",
        "outputId": "cd96b43e-cd9d-4d9f-985c-8102f0a372a7"
      },
      "execution_count": 62,
      "outputs": [
        {
          "output_type": "stream",
          "name": "stdout",
          "text": [
            "reprovado\n"
          ]
        }
      ]
    },
    {
      "cell_type": "markdown",
      "source": [
        "Input de dados no Python"
      ],
      "metadata": {
        "id": "2vjrWBa4UVDg"
      }
    },
    {
      "cell_type": "code",
      "source": [
        "nota1 = input('digite a nota, pae!')\n",
        "nota2 = input('digite a segunda nota!')\n",
        "print(nota1+nota2)"
      ],
      "metadata": {
        "id": "oc7rEn4IUaqR"
      },
      "execution_count": null,
      "outputs": []
    },
    {
      "cell_type": "code",
      "source": [
        "#o velho e bom PARSE\n",
        "\n",
        "\n",
        "nota1 = float (input('digite a nota, pae!'))\n",
        "nota2 = float (input('digite a segunda nota!'))\n",
        "nota3 = float (input('digite a terceira nota!'))\n",
        "media = (nota1 + nota2 + nota3)/3\n",
        "print(media)\n"
      ],
      "metadata": {
        "colab": {
          "base_uri": "https://localhost:8080/"
        },
        "id": "xwAMYhEWVElq",
        "outputId": "637a9c7b-068b-4d9a-8ea4-5341bffb0234"
      },
      "execution_count": 69,
      "outputs": [
        {
          "output_type": "stream",
          "name": "stdout",
          "text": [
            "digite a nota, pae!7\n",
            "digite a segunda nota!6\n",
            "digite a terceira nota!5\n",
            "6.0\n"
          ]
        }
      ]
    },
    {
      "cell_type": "code",
      "source": [
        "if(media < 4):\n",
        "  print('reprovado')\n",
        "elif(media < 7):\n",
        "  print('recuperação')\n",
        "else:\n",
        "  print('aprovado')   "
      ],
      "metadata": {
        "colab": {
          "base_uri": "https://localhost:8080/"
        },
        "id": "_YMeCxVUWx9C",
        "outputId": "0f8ab9e6-bcc5-4e26-8c3f-b72588e838d0"
      },
      "execution_count": 70,
      "outputs": [
        {
          "output_type": "stream",
          "name": "stdout",
          "text": [
            "recuperação\n"
          ]
        }
      ]
    }
  ]
}